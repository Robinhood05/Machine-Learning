{
  "nbformat": 4,
  "nbformat_minor": 0,
  "metadata": {
    "colab": {
      "provenance": [],
      "gpuType": "T4",
      "mount_file_id": "1NXVuT-_wLr1nFZav888zBjrY-SyhbWIn",
      "authorship_tag": "ABX9TyOOIl033Hwp0OSgGqMyeRYA",
      "include_colab_link": true
    },
    "kernelspec": {
      "name": "python3",
      "display_name": "Python 3"
    },
    "language_info": {
      "name": "python"
    },
    "accelerator": "GPU"
  },
  "cells": [
    {
      "cell_type": "markdown",
      "metadata": {
        "id": "view-in-github",
        "colab_type": "text"
      },
      "source": [
        "<a href=\"https://colab.research.google.com/github/Robinhood05/Machine-Learning/blob/main/Naive_Bayes_Classifier.ipynb\" target=\"_parent\"><img src=\"https://colab.research.google.com/assets/colab-badge.svg\" alt=\"Open In Colab\"/></a>"
      ]
    },
    {
      "cell_type": "code",
      "execution_count": null,
      "metadata": {
        "id": "20UVajak-KkF"
      },
      "outputs": [],
      "source": [
        "import pandas as pd\n",
        "import re\n",
        "from sklearn.feature_extraction.text import CountVectorizer\n",
        "from nltk.corpus import stopwords\n",
        "from nltk.tokenize import word_tokenize\n",
        "import nltk"
      ]
    },
    {
      "cell_type": "code",
      "source": [
        "from google.colab import drive\n",
        "drive.mount('/content/drive')\n"
      ],
      "metadata": {
        "colab": {
          "base_uri": "https://localhost:8080/"
        },
        "id": "H-lXcqAxElKk",
        "outputId": "1f7dc366-d3e5-435a-d698-06cd49469616"
      },
      "execution_count": null,
      "outputs": [
        {
          "output_type": "stream",
          "name": "stdout",
          "text": [
            "Drive already mounted at /content/drive; to attempt to forcibly remount, call drive.mount(\"/content/drive\", force_remount=True).\n"
          ]
        }
      ]
    },
    {
      "cell_type": "code",
      "source": [
        "import os\n",
        "dataset_path = '/content/drive/My Drive/Dataset'\n",
        "print(os.listdir(dataset_path))\n"
      ],
      "metadata": {
        "colab": {
          "base_uri": "https://localhost:8080/"
        },
        "id": "HSA68UuHEpPA",
        "outputId": "b397e169-87ea-4f34-f5c0-161753dfdb9a"
      },
      "execution_count": null,
      "outputs": [
        {
          "output_type": "stream",
          "name": "stdout",
          "text": [
            "['diabetes.csv', 'Fish[1].csv', '1.01. Simple linear regression.csv', 'test_X.csv', 'test_Y.csv', 'train_X.csv', 'train_Y.csv', 'News_dataset.csv']\n"
          ]
        }
      ]
    },
    {
      "cell_type": "code",
      "source": [
        "file_path = '/content/drive/My Drive/Dataset/News_dataset.csv'\n"
      ],
      "metadata": {
        "id": "7QXOE_6pEwHk"
      },
      "execution_count": null,
      "outputs": []
    },
    {
      "cell_type": "code",
      "source": [
        "data = pd.read_csv(file_path, encoding='latin1')\n"
      ],
      "metadata": {
        "id": "Wt2N1lJeFBe0"
      },
      "execution_count": null,
      "outputs": []
    },
    {
      "cell_type": "code",
      "source": [
        "\n",
        "print(data.head())\n"
      ],
      "metadata": {
        "colab": {
          "base_uri": "https://localhost:8080/"
        },
        "id": "YUIBDAyZFwSq",
        "outputId": "f3724509-bd7a-46f6-8b39-3d25c8fa4a21"
      },
      "execution_count": null,
      "outputs": [
        {
          "output_type": "stream",
          "name": "stdout",
          "text": [
            "                                            Headline    Type  \\\n",
            "0  Pakistan name Aqib Javed white-ball coach till...  Sports   \n",
            "1        Imrul departs for one in red-ball swansong   Sports   \n",
            "2                 Rishad reveals his thoughts on IPL  Sports   \n",
            "3  Kane hopes Tuchel's winning record will help e...  Sports   \n",
            "4  England lose three after West Indies fold for 282  Sports   \n",
            "\n",
            "                                                Link  \n",
            "0  https://thedailystar.net/sports/cricket/news/p...  \n",
            "1  https://www.thedailystar.net/sports/cricket/ne...  \n",
            "2  https://www.thedailystar.net/sports/cricket/ne...  \n",
            "3  https://www.thedailystar.net/sports/football/n...  \n",
            "4  https://www.thedailystar.net/sports/cricket/ne...  \n"
          ]
        }
      ]
    },
    {
      "cell_type": "code",
      "source": [
        "data = data.drop(columns=['Link'])"
      ],
      "metadata": {
        "id": "EIU9uAeNIZiK"
      },
      "execution_count": null,
      "outputs": []
    },
    {
      "cell_type": "code",
      "source": [
        "print(data.head())\n"
      ],
      "metadata": {
        "colab": {
          "base_uri": "https://localhost:8080/"
        },
        "id": "cfDHHaYkIT2x",
        "outputId": "3fc7e7cd-70b5-49be-d770-5aa861ca828f"
      },
      "execution_count": null,
      "outputs": [
        {
          "output_type": "stream",
          "name": "stdout",
          "text": [
            "                                            Headline    Type\n",
            "0  Pakistan name Aqib Javed white-ball coach till...  Sports\n",
            "1        Imrul departs for one in red-ball swansong   Sports\n",
            "2                 Rishad reveals his thoughts on IPL  Sports\n",
            "3  Kane hopes Tuchel's winning record will help e...  Sports\n",
            "4  England lose three after West Indies fold for 282  Sports\n"
          ]
        }
      ]
    },
    {
      "cell_type": "code",
      "source": [
        "data['Headline'] = data['Headline'].str.lower()\n",
        "\n",
        "print(data[['Headline', 'Type']].head())\n"
      ],
      "metadata": {
        "colab": {
          "base_uri": "https://localhost:8080/"
        },
        "id": "d91G8oOEInpX",
        "outputId": "f54cac85-c234-4071-a4da-feae283c7a24"
      },
      "execution_count": null,
      "outputs": [
        {
          "output_type": "stream",
          "name": "stdout",
          "text": [
            "                                            Headline    Type\n",
            "0  pakistan name aqib javed white-ball coach till...  Sports\n",
            "1        imrul departs for one in red-ball swansong   Sports\n",
            "2                 rishad reveals his thoughts on ipl  Sports\n",
            "3  kane hopes tuchel's winning record will help e...  Sports\n",
            "4  england lose three after west indies fold for 282  Sports\n"
          ]
        }
      ]
    },
    {
      "cell_type": "code",
      "source": [
        "import string\n",
        "\n",
        "punctuation_removed_documents = []\n",
        "\n",
        "for headline in data['Headline']:\n",
        "    cleaned_headline = ''.join([char for char in headline if char not in string.punctuation])\n",
        "    punctuation_removed_documents.append(cleaned_headline)\n",
        "\n",
        "data['Headline'] = punctuation_removed_documents\n",
        "\n",
        "print(data[['Headline', 'Type']].head())\n"
      ],
      "metadata": {
        "colab": {
          "base_uri": "https://localhost:8080/"
        },
        "id": "7JfHeTc_Iq1r",
        "outputId": "71a09003-e94a-4e5c-bb73-766a83dc1a94"
      },
      "execution_count": null,
      "outputs": [
        {
          "output_type": "stream",
          "name": "stdout",
          "text": [
            "                                            Headline    Type\n",
            "0  pakistan name aqib javed whiteball coach till ...  Sports\n",
            "1         imrul departs for one in redball swansong   Sports\n",
            "2                 rishad reveals his thoughts on ipl  Sports\n",
            "3  kane hopes tuchels winning record will help en...  Sports\n",
            "4  england lose three after west indies fold for 282  Sports\n"
          ]
        }
      ]
    },
    {
      "cell_type": "code",
      "source": [
        "preprocessed_documents = []\n",
        "\n",
        "for headline in punctuation_removed_documents:\n",
        "    tokenized_headline = headline.split(' ')  # Split on space\n",
        "    preprocessed_documents.append(tokenized_headline)\n",
        "\n",
        "data['Preprocessed_Headline'] = preprocessed_documents\n",
        "\n",
        "print(data[['Preprocessed_Headline', 'Type']].head())\n"
      ],
      "metadata": {
        "colab": {
          "base_uri": "https://localhost:8080/"
        },
        "id": "i9D8TYVlI3dI",
        "outputId": "21c33db9-674c-4a65-b7b1-56fcee9eb1b5"
      },
      "execution_count": null,
      "outputs": [
        {
          "output_type": "stream",
          "name": "stdout",
          "text": [
            "                               Preprocessed_Headline    Type\n",
            "0  [pakistan, name, aqib, javed, whiteball, coach...  Sports\n",
            "1  [imrul, departs, for, one, in, redball, swanso...  Sports\n",
            "2          [rishad, reveals, his, thoughts, on, ipl]  Sports\n",
            "3  [kane, hopes, tuchels, winning, record, will, ...  Sports\n",
            "4  [england, lose, three, after, west, indies, fo...  Sports\n"
          ]
        }
      ]
    },
    {
      "cell_type": "code",
      "source": [
        "from sklearn.feature_extraction.text import CountVectorizer\n",
        "\n",
        "count_vector = CountVectorizer()\n",
        "\n",
        "X = count_vector.fit_transform(data['Headline'])\n",
        "\n",
        "feature_names = count_vector.get_feature_names_out()\n",
        "\n",
        "print(\"Feature names (vocabulary):\", feature_names)\n",
        "\n",
        "word_count_matrix = X.toarray()\n",
        "\n",
        "print(\"Word count matrix:\\n\", word_count_matrix[:5])\n"
      ],
      "metadata": {
        "colab": {
          "base_uri": "https://localhost:8080/"
        },
        "id": "KVZD4DhWJQ0f",
        "outputId": "b583ddec-7424-4cc6-af00-980b63d6b841"
      },
      "execution_count": null,
      "outputs": [
        {
          "output_type": "stream",
          "name": "stdout",
          "text": [
            "Feature names (vocabulary): ['03' '135' '14810' '18man' '1st' '2024' '202425' '2025' '2026' '2028'\n",
            " '240' '282' '2nd' '30' '31' '31point' '3rd' '41' '4th' 'abhishek'\n",
            " 'accumulation' 'adam' 'address' 'administration' 'admissions' 'advice'\n",
            " 'africa' 'after' 'ag' 'again' 'against' 'agar' 'agency' 'ahead' 'al'\n",
            " 'all' 'allegations' 'allrounder' 'already' 'amazon' 'americans' 'amid'\n",
            " 'amir' 'among' 'an' 'analysis' 'and' 'announces' 'apart' 'appointments'\n",
            " 'aqib' 'are' 'arsenal' 'as' 'at' 'atacms' 'athletes' 'attorney' 'auction'\n",
            " 'aus' 'australia' 'australias' 'awami' 'azam' 'babar' 'backs' 'balance'\n",
            " 'balanced' 'ban' 'bangladesh' 'banned' 'batting' 'be' 'beat' 'being'\n",
            " 'bentancur' 'biden' 'bingo' 'block' 'blockbuster' 'bnp' 'bnps'\n",
            " 'bordergavaskar' 'bowled' 'bowler' 'broken' 'brothers' 'bumrah' 'but'\n",
            " 'by' 'cabinet' 'call' 'came' 'camp' 'can' 'candidates' 'cannot' 'cant'\n",
            " 'captain' 'card' 'celebrated' 'ceo' 'chairman' 'champions' 'change'\n",
            " 'chief' 'chris' 'citizens' 'city' 'clash' 'clean' 'climate' 'clinch'\n",
            " 'cnn' 'coach' 'coaches' 'coaching' 'commentary' 'committee' 'completing'\n",
            " 'confirmation' 'congress' 'control' 'controversial' 'controversy'\n",
            " 'corners' 'could' 'court' 'cricket' 'cristiano' 'criticises' 'cro'\n",
            " 'croatia' 'crowned' 'culture' 'cup' 'david' 'de' 'decision' 'demanding'\n",
            " 'demands' 'democrat' 'departs' 'deportation' 'despite' 'details' 'dhaka'\n",
            " 'dies' 'dijk' 'disappointed' 'does' 'doj' 'dominance' 'donates' 'done'\n",
            " 'double' 'doubles' 'down' 'drama' 'drifting' 'during' 'dutch' 'duties'\n",
            " 'edgy' 'education' 'election' 'emphasised' 'end' 'energy' 'enforcement'\n",
            " 'england' 'englands' 'enjoy' 'every' 'exorcise' 'expedite' 'explained'\n",
            " 'face' 'faced' 'fail' 'fates' 'fight' 'final' 'fine' 'first' 'fixtures'\n",
            " 'florida' 'flurry' 'fold' 'fool' 'football' 'for' 'forced' 'france'\n",
            " 'frasermcgurk' 'free' 'from' 'further' 'g20' 'gaetz' 'game' 'games'\n",
            " 'general' 'generating' 'gets' 'gill' 'gives' 'gloves' 'go' 'goals' 'good'\n",
            " 'gop' 'government' 'govt' 'green' 'ground' 'group' 'growing' 'guardiolas'\n",
            " 'handed' 'hang' 'harry' 'has' 'hasan' 'hattrick' 'have' 'he' 'head'\n",
            " 'health' 'help' 'her' 'heroics' 'heungmin' 'highlights' 'his' 'historic'\n",
            " 'hits' 'honest' 'hopes' 'hosts' 'house' 'how' 'huge' 'icc' 'ict' 'impact'\n",
            " 'impoundment' 'improve' 'improvement' 'imrul' 'in' 'incoming'\n",
            " 'incompetence' 'ind' 'india' 'indies' 'influence' 'inherit' 'innings'\n",
            " 'insight' 'inter' 'interim' 'international' 'into' 'ipl' 'is' 'isgur'\n",
            " 'issues' 'ist' 'it' 'italy' 'jail' 'jamaat' 'javed' 'jersey' 'jong'\n",
            " 'julyaugust' 'jumps' 'just' 'kane' 'kashimpur' 'kazakhstan' 'khadija'\n",
            " 'khan' 'khasru' 'kicks' 'kohlis' 'lanka' 'last' 'late' 'latest' 'law'\n",
            " 'lawyer' 'lead' 'leader' 'leaders' 'leading' 'league' 'leave' 'leaves'\n",
            " 'liberty' 'light' 'live' 'liverpool' 'lives' 'lose' 'loyalists' 'lucia'\n",
            " 'maga' 'majority' 'makes' 'man' 'mandate' 'map' 'margins' 'mass'\n",
            " 'massacre' 'match' 'matt' 'mean' 'means' 'meet' 'megastar' 'meritbased'\n",
            " 'metropolis' 'midfielder' 'million' 'mind' 'mirpur' 'miss' 'mohammad'\n",
            " 'more' 'morkel' 'morne' 'most' 'museum' 'must' 'my' 'name' 'nation'\n",
            " 'national' 'nations' 'nayar' 'ncl' 'need' 'needed' 'net' 'netherlands'\n",
            " 'new' 'news' 'next' 'no' 'no1' 'nominates' 'norway' 'not' 'nur' 'nz'\n",
            " 'obstruction' 'oceania' 'odi' 'of' 'off' 'offers' 'olympics' 'on' 'one'\n",
            " 'onearm' 'online' 'opportunity' 'oppositions' 'ordeal' 'our' 'out'\n",
            " 'outrage' 'over' 'pair' 'pak' 'pakistan' 'pakistans' 'pandya' 'paris'\n",
            " 'parties' 'party' 'path' 'people' 'pep' 'performing' 'perth' 'pick'\n",
            " 'picks' 'pictures' 'plan' 'play' 'player' 'players' 'playing' 'pledge'\n",
            " 'pok' 'poland' 'political' 'politicians' 'politics' 'polls' 'por'\n",
            " 'portugal' 'poses' 'postaugust' 'pot' 'potential' 'practice'\n",
            " 'preliminary' 'premier' 'prepared' 'presidency' 'presidential' 'process'\n",
            " 'progress' 'projects' 'promotion' 'proposals' 'prosecutor' 'provocative'\n",
            " 'push' 'qualifiers' 'qualifying' 'quarters' 'quartet' 'racial' 'racing'\n",
            " 'rahman' 'rainforest' 'raised' 'rajshahi' 'ranked' 'rankings' 'rare'\n",
            " 'reach' 'reason' 'recess' 'record' 'records' 'redball' 'reelection'\n",
            " 'reform' 'reforms' 'regarding' 'release' 'report' 'republicans' 'resort'\n",
            " 'rest' 'retain' 'rethinks' 'retires' 'returns' 'reveals' 'review'\n",
            " 'rigging' 'rishad' 'rivals' 'rizwan' 'road' 'roadmap' 'rocchicciolis'\n",
            " 'rodrigo' 'rohit' 'rolls' 'ronaldo' 'roundup' 'rout' 'ruling' 'run'\n",
            " 'runs' 'russia' 'sa' 'same' 'sarah' 'save' 'scenario' 'score' 'scotland'\n",
            " 'scrutiny' 'seal' 'seasondefining' 'secretary' 'secure' 'see' 'series'\n",
            " 'serve' 'set' 'seven' 'sevengame' 'sex' 'shakib' 'shameful' 'share'\n",
            " 'sharmas' 'shock' 'shown' 'side' 'silva' 'sisyphus' 'skip' 'skipper'\n",
            " 'sky' 'slur' 'solbakken' 'some' 'son' 'sought' 'sounds' 'south' 'spain'\n",
            " 'spending' 'spot' 'squad' 'sri' 'st' 'stakes' 'stale' 'stars' 'statement'\n",
            " 'stirs' 'stop' 'storm' 'strange' 'stream' 'streaming' 'stronger'\n",
            " 'students' 'stunning' 'suggest' 'sunday' 'super' 'support' 'surge'\n",
            " 'swansong' 'sweep' 'sydney' 'sylhet' 't20' 't20i' 'tajul' 'take' 'takes'\n",
            " 'target' 'targets' 'tarique' 'team' 'teams' 'telecast' 'term' 'test'\n",
            " 'that' 'the' 'their' 'these' 'they' 'think' 'thinks' 'third' 'this'\n",
            " 'thoughts' 'thrash' 'threat' 'three' 'threewicket' 'through' 'till'\n",
            " 'time' 'to' 'today' 'tolerate' 'top' 'tottenham' 'tour' 'tourists'\n",
            " 'tracking' 'travis' 'treasury' 'trends' 'trial' 'trophy' 'trump' 'trumps'\n",
            " 'trying' 'tuchels' 'tv' 'uefa' 'ukraine' 'unbeaten' 'uncapped' 'under'\n",
            " 'underway' 'updates' 'urges' 'us' 'use' 'vacation' 'van' 'venues'\n",
            " 'verdict' 'vettori' 'vice' 'victoria' 'victory' 'video' 'virat' 'visit'\n",
            " 'voting' 'vows' 'vs' 'waca' 'wait' 'wake' 'want' 'war' 'warner' 'warning'\n",
            " 'was' 'washington' 'wasnt' 'wasted' 'watch' 'we' 'wealth' 'welcome'\n",
            " 'west' 'what' 'when' 'white' 'whiteball' 'why' 'wickets' 'will' 'win'\n",
            " 'winning' 'with' 'withdrawals' 'withdraws' 'without' 'womens' 'won'\n",
            " 'wood' 'work' 'workingclass' 'world' 'would' 'wouldbe' 'wright' 'youtube'\n",
            " 'yunus' 'zampa' 'zimbabwe']\n",
            "Word count matrix:\n",
            " [[0 0 0 ... 0 0 0]\n",
            " [0 0 0 ... 0 0 0]\n",
            " [0 0 0 ... 0 0 0]\n",
            " [0 0 0 ... 0 0 0]\n",
            " [0 0 0 ... 0 0 0]]\n"
          ]
        }
      ]
    },
    {
      "cell_type": "code",
      "source": [
        "import pandas as pd\n",
        "from sklearn.model_selection import train_test_split\n",
        "from sklearn.feature_extraction.text import CountVectorizer\n",
        "from sklearn.naive_bayes import MultinomialNB\n",
        "import numpy as np\n"
      ],
      "metadata": {
        "id": "EcbYB46_KG4F"
      },
      "execution_count": null,
      "outputs": []
    },
    {
      "cell_type": "code",
      "source": [
        "data = pd.read_csv('drive/MyDrive/Dataset/News_dataset.csv', encoding='ISO-8859-1')\n",
        "\n",
        "print(data.head())\n"
      ],
      "metadata": {
        "colab": {
          "base_uri": "https://localhost:8080/"
        },
        "id": "VjsgbmIDJbxM",
        "outputId": "3e97614f-0522-44a4-ec29-87ca55fdadd3"
      },
      "execution_count": null,
      "outputs": [
        {
          "output_type": "stream",
          "name": "stdout",
          "text": [
            "                                            Headline    Type  \\\n",
            "0  Pakistan name Aqib Javed white-ball coach till...  Sports   \n",
            "1        Imrul departs for one in red-ball swansong   Sports   \n",
            "2                 Rishad reveals his thoughts on IPL  Sports   \n",
            "3  Kane hopes Tuchel's winning record will help e...  Sports   \n",
            "4  England lose three after West Indies fold for 282  Sports   \n",
            "\n",
            "                                                Link  \n",
            "0  https://thedailystar.net/sports/cricket/news/p...  \n",
            "1  https://www.thedailystar.net/sports/cricket/ne...  \n",
            "2  https://www.thedailystar.net/sports/cricket/ne...  \n",
            "3  https://www.thedailystar.net/sports/football/n...  \n",
            "4  https://www.thedailystar.net/sports/cricket/ne...  \n"
          ]
        }
      ]
    },
    {
      "cell_type": "code",
      "source": [
        "import pandas as pd\n",
        "from sklearn.model_selection import train_test_split\n",
        "from sklearn.feature_extraction.text import CountVectorizer\n",
        "from sklearn.naive_bayes import MultinomialNB\n",
        "import numpy as np\n",
        "\n",
        "data = pd.read_csv('drive/MyDrive/Dataset/News_dataset.csv', encoding='ISO-8859-1')\n",
        "\n",
        "data['label'] = data['Type'].map({'Sports': 0, 'Political': 1})\n",
        "\n",
        "X = data['Headline']\n",
        "y = data['label']\n",
        "\n",
        "X_train, X_test, y_train, y_test = train_test_split(X, y, test_size=0.2, random_state=1)\n",
        "\n",
        "print(f\"Original dataset contains {data.shape[0]} messages\")\n",
        "print(f\"Training set contains {X_train.shape[0]} messages\")\n",
        "print(f\"Testing set contains {X_test.shape[0]} messages\")\n",
        "\n",
        "count_vector = CountVectorizer()\n",
        "\n",
        "X_train_vec = count_vector.fit_transform(X_train)\n",
        "X_test_vec = count_vector.transform(X_test)\n",
        "\n",
        "naive_bayes = MultinomialNB()\n",
        "\n",
        "naive_bayes.fit(X_train_vec, y_train)\n",
        "\n",
        "predictions = naive_bayes.predict(X_test_vec)\n",
        "\n",
        "accuracy = np.mean(predictions == y_test)\n",
        "print(f\"Model accuracy: {accuracy * 100:.2f}%\")\n"
      ],
      "metadata": {
        "colab": {
          "base_uri": "https://localhost:8080/"
        },
        "id": "guO6FXAZKr20",
        "outputId": "f404dc7d-91c5-4031-c404-57bb15de09ab"
      },
      "execution_count": null,
      "outputs": [
        {
          "output_type": "stream",
          "name": "stdout",
          "text": [
            "Original dataset contains 99 messages\n",
            "Training set contains 79 messages\n",
            "Testing set contains 20 messages\n",
            "Model accuracy: 95.00%\n"
          ]
        }
      ]
    },
    {
      "cell_type": "code",
      "source": [
        "from sklearn.metrics import confusion_matrix\n",
        "\n",
        "cm = confusion_matrix(y_test, predictions)\n",
        "\n",
        "print(\"Confusion Matrix:\")\n",
        "print(cm)\n",
        "\n",
        "print(\"\\nConfusion Matrix with Labels:\")\n",
        "print(f\"True Positives (Sports classified as Sports): {cm[0, 0]}\")\n",
        "print(f\"False Positives (Political classified as Sports): {cm[0, 1]}\")\n",
        "print(f\"False Negatives (Sports classified as Political): {cm[1, 0]}\")\n",
        "print(f\"True Negatives (Political classified as Political): {cm[1, 1]}\")\n"
      ],
      "metadata": {
        "colab": {
          "base_uri": "https://localhost:8080/"
        },
        "id": "ENjqp4dfOcdd",
        "outputId": "dbd37762-ff75-4b09-e092-3b9dcc9edd46"
      },
      "execution_count": null,
      "outputs": [
        {
          "output_type": "stream",
          "name": "stdout",
          "text": [
            "Confusion Matrix:\n",
            "[[ 8  0]\n",
            " [ 1 11]]\n",
            "\n",
            "Confusion Matrix with Labels:\n",
            "True Positives (Sports classified as Sports): 8\n",
            "False Positives (Political classified as Sports): 0\n",
            "False Negatives (Sports classified as Political): 1\n",
            "True Negatives (Political classified as Political): 11\n"
          ]
        }
      ]
    }
  ]
}
